{
 "cells": [
  {
   "cell_type": "code",
   "execution_count": null,
   "metadata": {},
   "outputs": [],
   "source": [
    "#Agenda\n",
    "#Introduction to Numpy\n",
    "#Creating Numpy 1d Array\n",
    "#Creating 2d Np Array\n",
    "#Finding dimensions of Array - shape\n",
    "#Finding datatype of Array - dtype\n",
    "#Array creation and initialisation functions - zeros\n",
    "#Array creation and initialisation functions - ones\n",
    "#Array creation and initialisation functions - empty\n",
    "#Array creation and initialisation functions - eye\n",
    "#Array creation and initialisation functions - arange\n",
    "#Summarize"
   ]
  },
  {
   "cell_type": "code",
   "execution_count": 4,
   "metadata": {},
   "outputs": [],
   "source": [
    "import numpy as np"
   ]
  },
  {
   "cell_type": "code",
   "execution_count": 5,
   "metadata": {},
   "outputs": [
    {
     "name": "stdout",
     "output_type": "stream",
     "text": [
      "[101 102 103]\n"
     ]
    }
   ],
   "source": [
    "#Creating Numpy 1d Array\n",
    "mylist1 = [101,102,103]\n",
    "\n",
    "myArray = np.array(mylist1)\n",
    "print(myArray)"
   ]
  },
  {
   "cell_type": "code",
   "execution_count": 6,
   "metadata": {},
   "outputs": [
    {
     "name": "stdout",
     "output_type": "stream",
     "text": [
      "[[101 102 103]\n",
      " [201 202 203]]\n"
     ]
    }
   ],
   "source": [
    "#Creating 2d Np Array\n",
    "mylist2 = [201,202,203]\n",
    "\n",
    "myArray2D = np.array([mylist1,mylist2])\n",
    "print(myArray2D)"
   ]
  },
  {
   "cell_type": "code",
   "execution_count": 7,
   "metadata": {},
   "outputs": [
    {
     "name": "stdout",
     "output_type": "stream",
     "text": [
      "myArray Dimensions - \n",
      "(3,)\n",
      "myArray2D Dimensions - \n",
      "(2, 3)\n"
     ]
    }
   ],
   "source": [
    "#Finding dimensions of Array - shape\n",
    "\n",
    "print(\"myArray Dimensions - \")\n",
    "print(myArray.shape)\n",
    "print(\"myArray2D Dimensions - \")\n",
    "print(myArray2D.shape)"
   ]
  },
  {
   "cell_type": "code",
   "execution_count": 8,
   "metadata": {},
   "outputs": [
    {
     "name": "stdout",
     "output_type": "stream",
     "text": [
      "myArray Datatype - \n",
      "int32\n",
      "myArray2D Datatype - \n",
      "int32\n"
     ]
    }
   ],
   "source": [
    "#Finding datatype of Array - dtype\n",
    "\n",
    "print(\"myArray Datatype - \")\n",
    "print(myArray.dtype)\n",
    "print(\"myArray2D Datatype - \")\n",
    "print(myArray2D.dtype)"
   ]
  },
  {
   "cell_type": "code",
   "execution_count": 9,
   "metadata": {},
   "outputs": [
    {
     "name": "stdout",
     "output_type": "stream",
     "text": [
      "[0. 0. 0. 0. 0.]\n",
      "[[0. 0. 0. 0. 0.]\n",
      " [0. 0. 0. 0. 0.]\n",
      " [0. 0. 0. 0. 0.]\n",
      " [0. 0. 0. 0. 0.]\n",
      " [0. 0. 0. 0. 0.]]\n"
     ]
    }
   ],
   "source": [
    "#Array creation and initialisation functions - zeros\n",
    "\n",
    "zero_array = np.zeros(5)\n",
    "print(zero_array)\n",
    "\n",
    "zero_array2D = np.zeros([5, 5])\n",
    "print(zero_array2D)"
   ]
  },
  {
   "cell_type": "code",
   "execution_count": 10,
   "metadata": {},
   "outputs": [
    {
     "name": "stdout",
     "output_type": "stream",
     "text": [
      "1D:\n",
      "[1. 1. 1. 1. 1.]\n",
      "2D:\n",
      "[[1. 1. 1. 1. 1.]\n",
      " [1. 1. 1. 1. 1.]\n",
      " [1. 1. 1. 1. 1.]\n",
      " [1. 1. 1. 1. 1.]\n",
      " [1. 1. 1. 1. 1.]]\n"
     ]
    }
   ],
   "source": [
    "#Array creation and initialisation functions - ones\n",
    "\n",
    "print(\"1D:\")\n",
    "ones_array = np.ones(5)\n",
    "print(ones_array)\n",
    "print(\"2D:\")\n",
    "ones_array2D = np.ones([5,5])\n",
    "print(ones_array2D)"
   ]
  },
  {
   "cell_type": "code",
   "execution_count": 11,
   "metadata": {},
   "outputs": [
    {
     "name": "stdout",
     "output_type": "stream",
     "text": [
      "1D:\n",
      "[1. 1. 1. 1. 1.]\n",
      "2D:\n",
      "[[1. 1. 1. 1. 1.]\n",
      " [1. 1. 1. 1. 1.]\n",
      " [1. 1. 1. 1. 1.]\n",
      " [1. 1. 1. 1. 1.]\n",
      " [1. 1. 1. 1. 1.]]\n"
     ]
    }
   ],
   "source": [
    "#Array creation and initialisation functions - empty\n",
    "\n",
    "print(\"1D:\")\n",
    "empty_array = np.empty(5)\n",
    "print(empty_array)\n",
    "print(\"2D:\")\n",
    "empty_array2D = np.empty([5,5])\n",
    "print(empty_array2D)\n",
    "\n",
    "#all values are one because 1 is there in cache"
   ]
  },
  {
   "cell_type": "code",
   "execution_count": 12,
   "metadata": {},
   "outputs": [
    {
     "name": "stdout",
     "output_type": "stream",
     "text": [
      "[[1. 0. 0.]\n",
      " [0. 1. 0.]\n",
      " [0. 0. 1.]]\n"
     ]
    }
   ],
   "source": [
    "#Array creation and initialisation functions - eye\n",
    "#it is used to create identity matrix - can only create 2D matices\n",
    "\n",
    "identity_array = np.eye(3)\n",
    "print(identity_array)"
   ]
  },
  {
   "cell_type": "code",
   "execution_count": 13,
   "metadata": {},
   "outputs": [
    {
     "name": "stdout",
     "output_type": "stream",
     "text": [
      "[ 0  2  4  6  8 10 12 14 16 18 20 22 24 26 28 30 32 34 36 38 40 42 44 46\n",
      " 48]\n"
     ]
    }
   ],
   "source": [
    "#Array creation and initialisation functions - arange\n",
    "#it creates array with Arithematic progression for upto given n values\n",
    "\n",
    "AP_array = np.arange(0,50,2)\n",
    "print(AP_array)"
   ]
  },
  {
   "cell_type": "code",
   "execution_count": null,
   "metadata": {},
   "outputs": [],
   "source": []
  }
 ],
 "metadata": {
  "kernelspec": {
   "display_name": "Python 3",
   "language": "python",
   "name": "python3"
  },
  "language_info": {
   "codemirror_mode": {
    "name": "ipython",
    "version": 3
   },
   "file_extension": ".py",
   "mimetype": "text/x-python",
   "name": "python",
   "nbconvert_exporter": "python",
   "pygments_lexer": "ipython3",
   "version": "3.8.2"
  }
 },
 "nbformat": 4,
 "nbformat_minor": 4
}
