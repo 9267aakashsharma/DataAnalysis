{
 "cells": [
  {
   "cell_type": "code",
   "execution_count": null,
   "metadata": {},
   "outputs": [],
   "source": [
    "#Agenda\n",
    "#Function of Numpy Arrays - arange()\n",
    "#Function of Numpy Arrays - sqrt()\n",
    "#Function of Numpy Arrays - exp()\n",
    "#Function of Numpy Arrays - random()\n",
    "#Function of Numpy Arrays - add()\n",
    "#Function of Numpy Arrays - maximum()\n",
    "#Numpy Additional documentation - numpy.org, doccs.scipy.org"
   ]
  },
  {
   "cell_type": "code",
   "execution_count": 1,
   "metadata": {},
   "outputs": [],
   "source": [
    "import numpy as np"
   ]
  },
  {
   "cell_type": "code",
   "execution_count": 2,
   "metadata": {},
   "outputs": [
    {
     "name": "stdout",
     "output_type": "stream",
     "text": [
      "[ 0  1  2  3  4  5  6  7  8  9 10 11 12 13 14]\n"
     ]
    }
   ],
   "source": [
    "#Function of Numpy Arrays - arange()\n",
    "\n",
    "A = np.arange(15)\n",
    "print(A)"
   ]
  },
  {
   "cell_type": "code",
   "execution_count": 3,
   "metadata": {},
   "outputs": [
    {
     "name": "stdout",
     "output_type": "stream",
     "text": [
      "[5 6 7 8 9]\n"
     ]
    }
   ],
   "source": [
    "#example2\n",
    "\n",
    "B = np.arange(5,10)\n",
    "print(B)"
   ]
  },
  {
   "cell_type": "code",
   "execution_count": 4,
   "metadata": {},
   "outputs": [
    {
     "name": "stdout",
     "output_type": "stream",
     "text": [
      "[5 7 9]\n"
     ]
    }
   ],
   "source": [
    "#example3\n",
    "\n",
    "C = np.arange(5,10,2)\n",
    "print(C)"
   ]
  },
  {
   "cell_type": "code",
   "execution_count": 5,
   "metadata": {},
   "outputs": [
    {
     "name": "stdout",
     "output_type": "stream",
     "text": [
      "[0.         1.         1.41421356 1.73205081 2.         2.23606798\n",
      " 2.44948974 2.64575131 2.82842712 3.         3.16227766 3.31662479\n",
      " 3.46410162 3.60555128 3.74165739]\n"
     ]
    }
   ],
   "source": [
    "#Function of Numpy Arrays - sqrt()\n",
    "\n",
    "D = np.sqrt(A)\n",
    "print(D)"
   ]
  },
  {
   "cell_type": "code",
   "execution_count": 8,
   "metadata": {},
   "outputs": [
    {
     "name": "stdout",
     "output_type": "stream",
     "text": [
      "[1.00000000e+00 2.71828183e+00 7.38905610e+00 2.00855369e+01\n",
      " 5.45981500e+01 1.48413159e+02 4.03428793e+02 1.09663316e+03\n",
      " 2.98095799e+03 8.10308393e+03 2.20264658e+04 5.98741417e+04\n",
      " 1.62754791e+05 4.42413392e+05 1.20260428e+06]\n"
     ]
    }
   ],
   "source": [
    "#Function of Numpy Arrays - exp()\n",
    "\n",
    "E = np.exp(A)\n",
    "print(E)"
   ]
  },
  {
   "cell_type": "code",
   "execution_count": 11,
   "metadata": {},
   "outputs": [
    {
     "name": "stdout",
     "output_type": "stream",
     "text": [
      "[-0.99131234  0.40003322  0.22278396  0.98689989  0.50678309]\n",
      "[[ 0.42352679  0.8235933   0.53585377  2.33963343 -0.25139778]\n",
      " [ 0.979146    0.01656461  1.58491296 -0.66528506 -0.20890075]\n",
      " [-0.50743727  0.64114348  0.14411753  0.22153724 -1.43018351]\n",
      " [-0.17841853  0.48196809  0.42316675 -0.19329965  0.82445221]\n",
      " [-0.9446725   1.81617103  0.23579358 -0.16570605  1.18759159]]\n"
     ]
    }
   ],
   "source": [
    "#Function of Numpy Arrays - random()\n",
    "\n",
    "F = np.random.randn(5)\n",
    "print(F)\n",
    "\n",
    "#example2\n",
    "F = np.random.randn(5,5)\n",
    "print(F)"
   ]
  },
  {
   "cell_type": "code",
   "execution_count": 12,
   "metadata": {},
   "outputs": [
    {
     "name": "stdout",
     "output_type": "stream",
     "text": [
      "[ 0  1  2  3  4  5  6  7  8  9 10 11 12 13 14]\n",
      "[0.         1.         1.41421356 1.73205081 2.         2.23606798\n",
      " 2.44948974 2.64575131 2.82842712 3.         3.16227766 3.31662479\n",
      " 3.46410162 3.60555128 3.74165739]\n",
      "[ 0.          2.          3.41421356  4.73205081  6.          7.23606798\n",
      "  8.44948974  9.64575131 10.82842712 12.         13.16227766 14.31662479\n",
      " 15.46410162 16.60555128 17.74165739]\n"
     ]
    }
   ],
   "source": [
    "#Function of Numpy Arrays - add()\n",
    "\n",
    "print(A)\n",
    "print(D)\n",
    "\n",
    "G = np.add(A,D)\n",
    "print(G)"
   ]
  },
  {
   "cell_type": "code",
   "execution_count": 16,
   "metadata": {},
   "outputs": [
    {
     "name": "stdout",
     "output_type": "stream",
     "text": [
      "[ 1  5  7 10]\n",
      "[2 4 6 8]\n",
      "[ 2  5  7 10]\n"
     ]
    }
   ],
   "source": [
    "#Function of Numpy Arrays - maximum()\n",
    "\n",
    "H = np.array([1,5,7,10])\n",
    "I = np.array([2,4,6,8])\n",
    "print(H)\n",
    "print(I)\n",
    "\n",
    "J = np.maximum(H,I)\n",
    "print(J)"
   ]
  },
  {
   "cell_type": "code",
   "execution_count": null,
   "metadata": {},
   "outputs": [],
   "source": []
  }
 ],
 "metadata": {
  "kernelspec": {
   "display_name": "Python 3",
   "language": "python",
   "name": "python3"
  },
  "language_info": {
   "codemirror_mode": {
    "name": "ipython",
    "version": 3
   },
   "file_extension": ".py",
   "mimetype": "text/x-python",
   "name": "python",
   "nbconvert_exporter": "python",
   "pygments_lexer": "ipython3",
   "version": "3.8.2"
  }
 },
 "nbformat": 4,
 "nbformat_minor": 4
}
