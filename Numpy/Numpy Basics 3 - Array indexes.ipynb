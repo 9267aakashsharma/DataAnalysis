{
 "cells": [
  {
   "cell_type": "code",
   "execution_count": null,
   "metadata": {},
   "outputs": [],
   "source": [
    "#Agenda\n",
    "#Introduction to Indexes\n",
    "#Access individual Array Elements\n",
    "#Slicing of Array Indexes arr[start:stop:step]\n",
    "#Updating array using slices\n",
    "#Interesting point about slicing - Memory allocation - view vs copy\n",
    "#Advantages\n",
    "#copy() function => Creating new numpy memory for array"
   ]
  },
  {
   "cell_type": "code",
   "execution_count": 1,
   "metadata": {},
   "outputs": [],
   "source": [
    "import numpy as np"
   ]
  },
  {
   "cell_type": "code",
   "execution_count": 2,
   "metadata": {},
   "outputs": [
    {
     "name": "stdout",
     "output_type": "stream",
     "text": [
      "[100 102 104 106 108 110 112 114 116 118 120 122 124 126 128 130 132 134\n",
      " 136 138 140 142 144 146 148 150 152 154 156 158]\n"
     ]
    }
   ],
   "source": [
    "arr = np.arange(100,160,2)\n",
    "print(arr)"
   ]
  },
  {
   "cell_type": "code",
   "execution_count": 3,
   "metadata": {},
   "outputs": [
    {
     "name": "stdout",
     "output_type": "stream",
     "text": [
      "104\n"
     ]
    }
   ],
   "source": [
    "#Introduction to Indexes\n",
    "#used to access array elements\n",
    "#example:\n",
    "print(arr[2])"
   ]
  },
  {
   "cell_type": "code",
   "execution_count": 5,
   "metadata": {},
   "outputs": [
    {
     "name": "stdout",
     "output_type": "stream",
     "text": [
      "100  \n",
      "102  \n",
      "104  \n",
      "106  \n",
      "108  \n",
      "110  \n",
      "112  \n",
      "114  \n",
      "116  \n",
      "118  \n",
      "120  \n",
      "122  \n",
      "124  \n",
      "126  \n",
      "128  \n",
      "130  \n",
      "132  \n",
      "134  \n",
      "136  \n",
      "138  \n",
      "140  \n",
      "142  \n",
      "144  \n",
      "146  \n",
      "148  \n",
      "150  \n",
      "152  \n",
      "154  \n",
      "156  \n",
      "158  \n"
     ]
    }
   ],
   "source": [
    "#Access individual Array Elements\n",
    "for i in range(30):\n",
    "    print(arr[i],\" \")"
   ]
  },
  {
   "cell_type": "code",
   "execution_count": 6,
   "metadata": {},
   "outputs": [
    {
     "name": "stdout",
     "output_type": "stream",
     "text": [
      "[100 102 104 106 108]\n"
     ]
    }
   ],
   "source": [
    "#Slicing of Array Indexes arr[start:stop:step]\n",
    "\n",
    "print(arr[0:5:1])"
   ]
  },
  {
   "cell_type": "code",
   "execution_count": 7,
   "metadata": {},
   "outputs": [
    {
     "name": "stdout",
     "output_type": "stream",
     "text": [
      "[  0   0   0   0   0 110 112 114 116 118 120 122 124 126 128 130 132 134\n",
      " 136 138 140 142 144 146 148 150 152 154 156 158]\n"
     ]
    }
   ],
   "source": [
    "#updating array using slices\n",
    "\n",
    "arr[0:5] = 0\n",
    "print(arr)"
   ]
  },
  {
   "cell_type": "code",
   "execution_count": 20,
   "metadata": {},
   "outputs": [
    {
     "name": "stdout",
     "output_type": "stream",
     "text": [
      "[1 1 1 1 1]\n",
      "[1 1 1 1 1]\n"
     ]
    }
   ],
   "source": [
    "#Interesting point about slicing - Memory allocation - view vs copy\n",
    "\n",
    "arr2 = arr[10:15]\n",
    "print(arr2)\n",
    "\n",
    "#here whatever changes are donein arr2 will be reflected to arr, to overcome this we use copy() function\n",
    "\n",
    "arr2[:] = 1\n",
    "print(arr2)"
   ]
  },
  {
   "cell_type": "code",
   "execution_count": 21,
   "metadata": {},
   "outputs": [
    {
     "name": "stdout",
     "output_type": "stream",
     "text": [
      "[  0   0   0   0   1   1   1   1   1   1   1   1   1   1   1 130 132 134\n",
      " 136 138 140 142 144 146 148 150 152 154 156 158]\n"
     ]
    }
   ],
   "source": [
    "#copy() function => Creating new numpy memory for array\n",
    "\n",
    "arr3 = arr.copy()\n",
    "print(arr3)"
   ]
  },
  {
   "cell_type": "code",
   "execution_count": 22,
   "metadata": {},
   "outputs": [
    {
     "name": "stdout",
     "output_type": "stream",
     "text": [
      "[  0   0   0   0   1   1   1   1   1   1   1   1   1   1   1 130 132 134\n",
      " 136 138 140 142 144 146 148 150 152 154 156 158]\n",
      "[0 0 0 0 0 0 0 0 0 0 0 0 0 0 0 0 0 0 0 0 0 0 0 0 0 0 0 0 0 0]\n"
     ]
    }
   ],
   "source": [
    "arr3[:] = 0\n",
    "print(arr)\n",
    "print(arr3)\n",
    "\n",
    "#you will see that changes in arr3 are not reflected back to arr"
   ]
  },
  {
   "cell_type": "code",
   "execution_count": null,
   "metadata": {},
   "outputs": [],
   "source": []
  }
 ],
 "metadata": {
  "kernelspec": {
   "display_name": "Python 3",
   "language": "python",
   "name": "python3"
  },
  "language_info": {
   "codemirror_mode": {
    "name": "ipython",
    "version": 3
   },
   "file_extension": ".py",
   "mimetype": "text/x-python",
   "name": "python",
   "nbconvert_exporter": "python",
   "pygments_lexer": "ipython3",
   "version": "3.8.2"
  }
 },
 "nbformat": 4,
 "nbformat_minor": 4
}
